{
 "cells": [
  {
   "cell_type": "markdown",
   "id": "61e01231",
   "metadata": {},
   "source": [
    "## Импортируем нужные модули"
   ]
  },
  {
   "cell_type": "code",
   "execution_count": 1,
   "id": "47fe1e2d",
   "metadata": {},
   "outputs": [],
   "source": [
    "import pathlib\n",
    "import matplotlib.pyplot as plt\n",
    "import numpy as np\n",
    "import PIL\n",
    "import tensorflow as tf\n",
    "\n",
    "from tensorflow import keras\n",
    "from tensorflow.keras import layers\n",
    "from tensorflow.keras.models import Sequential"
   ]
  },
  {
   "cell_type": "markdown",
   "id": "d44c6f09",
   "metadata": {},
   "source": [
    "## Даём понять нейросети где хранится датасет"
   ]
  },
  {
   "cell_type": "code",
   "execution_count": 8,
   "id": "de483521",
   "metadata": {},
   "outputs": [],
   "source": [
    "dataset_dir = pathlib.Path(\"C:\\Python_versions_for_ai\\projects\\datasets/flowers/\")"
   ]
  },
  {
   "cell_type": "markdown",
   "id": "6cedee3d",
   "metadata": {},
   "source": [
    "## Создаем датасеты и кэшируем их"
   ]
  },
  {
   "cell_type": "code",
   "execution_count": 9,
   "id": "bc507ca8",
   "metadata": {},
   "outputs": [
    {
     "name": "stdout",
     "output_type": "stream",
     "text": [
      "Found 3671 files belonging to 5 classes.\n",
      "Using 2937 files for training.\n",
      "Found 3671 files belonging to 5 classes.\n",
      "Using 734 files for validation.\n",
      "Class names: daisy, dandelion, roses, sunflowers, tulips\n"
     ]
    }
   ],
   "source": [
    "batch_size = 32\n",
    "img_width = 180\n",
    "img_height = 180\n",
    "\n",
    "train_ds = tf.keras.utils.image_dataset_from_directory(dataset_dir,\n",
    "                                                       validation_split=0.2,\n",
    "                                                       subset=\"training\",\n",
    "                                                       seed=123,\n",
    "                                                       image_size=(img_height, img_width),\n",
    "                                                       batch_size=batch_size)\n",
    "\n",
    "val_ds = tf.keras.utils.image_dataset_from_directory(dataset_dir,\n",
    "                                                     validation_split=0.2,\n",
    "                                                     subset=\"validation\",\n",
    "                                                     seed=123,\n",
    "                                                     image_size=(img_height, img_width),\n",
    "                                                     batch_size=batch_size)\n",
    "\n",
    "class_names = train_ds.class_names\n",
    "print(f\"Class names: {', '.join(class_names)}\")\n",
    "\n",
    "# cache\n",
    "AUTOTUNE = tf.data.AUTOTUNE\n",
    "train_ds = train_ds.cache().shuffle(1000).prefetch(buffer_size=AUTOTUNE)\n",
    "val_ds = val_ds.cache().prefetch(buffer_size=AUTOTUNE)"
   ]
  },
  {
   "cell_type": "markdown",
   "id": "018f9b64",
   "metadata": {},
   "source": [
    "## Создаем модель, компилируем её и выводим summary"
   ]
  },
  {
   "cell_type": "code",
   "execution_count": 10,
   "id": "62daa356",
   "metadata": {},
   "outputs": [
    {
     "name": "stdout",
     "output_type": "stream",
     "text": [
      "Model: \"sequential\"\n",
      "_________________________________________________________________\n",
      "Layer (type)                 Output Shape              Param #   \n",
      "=================================================================\n",
      "rescaling (Rescaling)        (None, 180, 180, 3)       0         \n",
      "_________________________________________________________________\n",
      "random_flip (RandomFlip)     (None, 180, 180, 3)       0         \n",
      "_________________________________________________________________\n",
      "random_rotation (RandomRotat (None, 180, 180, 3)       0         \n",
      "_________________________________________________________________\n",
      "random_zoom (RandomZoom)     (None, 180, 180, 3)       0         \n",
      "_________________________________________________________________\n",
      "random_contrast (RandomContr (None, 180, 180, 3)       0         \n",
      "_________________________________________________________________\n",
      "conv2d (Conv2D)              (None, 180, 180, 16)      448       \n",
      "_________________________________________________________________\n",
      "max_pooling2d (MaxPooling2D) (None, 90, 90, 16)        0         \n",
      "_________________________________________________________________\n",
      "conv2d_1 (Conv2D)            (None, 90, 90, 32)        4640      \n",
      "_________________________________________________________________\n",
      "max_pooling2d_1 (MaxPooling2 (None, 45, 45, 32)        0         \n",
      "_________________________________________________________________\n",
      "conv2d_2 (Conv2D)            (None, 45, 45, 64)        18496     \n",
      "_________________________________________________________________\n",
      "max_pooling2d_2 (MaxPooling2 (None, 22, 22, 64)        0         \n",
      "_________________________________________________________________\n",
      "dropout (Dropout)            (None, 22, 22, 64)        0         \n",
      "_________________________________________________________________\n",
      "flatten (Flatten)            (None, 30976)             0         \n",
      "_________________________________________________________________\n",
      "dense (Dense)                (None, 128)               3965056   \n",
      "_________________________________________________________________\n",
      "dense_1 (Dense)              (None, 5)                 645       \n",
      "=================================================================\n",
      "Total params: 3,989,285\n",
      "Trainable params: 3,989,285\n",
      "Non-trainable params: 0\n",
      "_________________________________________________________________\n"
     ]
    }
   ],
   "source": [
    "# create model\n",
    "num_classes = len(class_names)\n",
    "\n",
    "model = Sequential([layers.experimental.preprocessing.Rescaling(1./255, input_shape=(img_height, img_width, 3)),\n",
    "                    \n",
    "                    # аугментация\n",
    "                    layers.experimental.preprocessing.RandomFlip('horizontal', input_shape=(img_height, img_width, 3)),\n",
    "                    layers.experimental.preprocessing.RandomRotation(0.1),\n",
    "                    layers.experimental.preprocessing.RandomZoom(0.1),\n",
    "                    layers.experimental.preprocessing.RandomContrast(0.2),\n",
    "                    \n",
    "                    layers.Conv2D(16, 3, padding=\"same\", activation=\"relu\"),\n",
    "                    layers.MaxPooling2D(),\n",
    "                   \n",
    "                    layers.Conv2D(32, 3, padding=\"same\", activation=\"relu\"),\n",
    "                    layers.MaxPooling2D(),\n",
    "                   \n",
    "                    layers.Conv2D(64, 3, padding=\"same\", activation=\"relu\"),\n",
    "                    layers.MaxPooling2D(),\n",
    "                    \n",
    "                    # регуляризация\n",
    "                    layers.Dropout(0.2),\n",
    "                    \n",
    "                    layers.Flatten(),\n",
    "                    layers.Dense(128, activation=\"relu\"),\n",
    "                    layers.Dense(num_classes)])\n",
    "\n",
    "# compile the model\n",
    "model.compile(optimizer='adam',\n",
    "              loss=keras.losses.SparseCategoricalCrossentropy(from_logits=True),\n",
    "              metrics=['accuracy'])\n",
    "\n",
    "# print model summary\n",
    "model.summary()"
   ]
  },
  {
   "cell_type": "markdown",
   "id": "3fe3ff55",
   "metadata": {},
   "source": [
    "## Обучаем нейросеть"
   ]
  },
  {
   "cell_type": "code",
   "execution_count": 11,
   "id": "18d853f2",
   "metadata": {
    "scrolled": true
   },
   "outputs": [
    {
     "name": "stdout",
     "output_type": "stream",
     "text": [
      "Epoch 1/30\n",
      "92/92 [==============================] - 88s 846ms/step - loss: 1.4240 - accuracy: 0.4004 - val_loss: 1.1425 - val_accuracy: 0.5218\n",
      "Epoch 2/30\n",
      "92/92 [==============================] - 75s 810ms/step - loss: 1.0553 - accuracy: 0.5676 - val_loss: 0.9965 - val_accuracy: 0.6185\n",
      "Epoch 3/30\n",
      "92/92 [==============================] - 77s 836ms/step - loss: 0.9557 - accuracy: 0.6221 - val_loss: 0.9298 - val_accuracy: 0.6390\n",
      "Epoch 4/30\n",
      "92/92 [==============================] - 75s 816ms/step - loss: 0.9083 - accuracy: 0.6483 - val_loss: 0.9025 - val_accuracy: 0.6649\n",
      "Epoch 5/30\n",
      "92/92 [==============================] - 74s 807ms/step - loss: 0.8410 - accuracy: 0.6752 - val_loss: 0.8395 - val_accuracy: 0.6757\n",
      "Epoch 6/30\n",
      "92/92 [==============================] - 73s 799ms/step - loss: 0.7772 - accuracy: 0.6980 - val_loss: 0.8149 - val_accuracy: 0.6921\n",
      "Epoch 7/30\n",
      "92/92 [==============================] - 73s 791ms/step - loss: 0.7730 - accuracy: 0.7031 - val_loss: 0.7951 - val_accuracy: 0.7030\n",
      "Epoch 8/30\n",
      "92/92 [==============================] - 72s 787ms/step - loss: 0.7524 - accuracy: 0.7126 - val_loss: 0.7379 - val_accuracy: 0.7248\n",
      "Epoch 9/30\n",
      "92/92 [==============================] - 73s 792ms/step - loss: 0.7140 - accuracy: 0.7208 - val_loss: 0.7254 - val_accuracy: 0.7357\n",
      "Epoch 10/30\n",
      "92/92 [==============================] - 73s 789ms/step - loss: 0.6833 - accuracy: 0.7453 - val_loss: 0.7333 - val_accuracy: 0.7153\n",
      "Epoch 11/30\n",
      "92/92 [==============================] - 72s 788ms/step - loss: 0.6408 - accuracy: 0.7559 - val_loss: 0.7905 - val_accuracy: 0.7248\n",
      "Epoch 12/30\n",
      "92/92 [==============================] - 72s 787ms/step - loss: 0.6354 - accuracy: 0.7494 - val_loss: 0.7338 - val_accuracy: 0.7466\n",
      "Epoch 13/30\n",
      "92/92 [==============================] - 78s 850ms/step - loss: 0.6239 - accuracy: 0.7620 - val_loss: 0.7434 - val_accuracy: 0.7180\n",
      "Epoch 14/30\n",
      "92/92 [==============================] - 224s 2s/step - loss: 0.5920 - accuracy: 0.7811 - val_loss: 0.6884 - val_accuracy: 0.7439\n",
      "Epoch 15/30\n",
      "92/92 [==============================] - 453s 5s/step - loss: 0.5691 - accuracy: 0.7858 - val_loss: 0.6982 - val_accuracy: 0.7493\n",
      "Epoch 16/30\n",
      "92/92 [==============================] - 457s 5s/step - loss: 0.5576 - accuracy: 0.7933 - val_loss: 0.6924 - val_accuracy: 0.7439\n",
      "Epoch 17/30\n",
      "92/92 [==============================] - 498s 5s/step - loss: 0.5429 - accuracy: 0.7937 - val_loss: 0.7737 - val_accuracy: 0.7234\n",
      "Epoch 18/30\n",
      "92/92 [==============================] - 472s 5s/step - loss: 0.5318 - accuracy: 0.7988 - val_loss: 0.6681 - val_accuracy: 0.7534\n",
      "Epoch 19/30\n",
      "92/92 [==============================] - 475s 5s/step - loss: 0.4903 - accuracy: 0.8097 - val_loss: 0.7561 - val_accuracy: 0.7520\n",
      "Epoch 20/30\n",
      "92/92 [==============================] - 475s 5s/step - loss: 0.4737 - accuracy: 0.8226 - val_loss: 0.7553 - val_accuracy: 0.7602\n",
      "Epoch 21/30\n",
      "92/92 [==============================] - 1802s 20s/step - loss: 0.4603 - accuracy: 0.8253 - val_loss: 0.6958 - val_accuracy: 0.7643\n",
      "Epoch 22/30\n",
      "92/92 [==============================] - 516s 6s/step - loss: 0.4525 - accuracy: 0.8284 - val_loss: 0.7172 - val_accuracy: 0.7548\n",
      "Epoch 23/30\n",
      "92/92 [==============================] - 474s 5s/step - loss: 0.4416 - accuracy: 0.8335 - val_loss: 0.6994 - val_accuracy: 0.7493\n",
      "Epoch 24/30\n",
      "92/92 [==============================] - 454s 5s/step - loss: 0.4269 - accuracy: 0.8301 - val_loss: 0.7438 - val_accuracy: 0.7657\n",
      "Epoch 25/30\n",
      "92/92 [==============================] - 456s 5s/step - loss: 0.4141 - accuracy: 0.8417 - val_loss: 0.6573 - val_accuracy: 0.7766\n",
      "Epoch 26/30\n",
      "92/92 [==============================] - 452s 5s/step - loss: 0.3889 - accuracy: 0.8543 - val_loss: 0.7156 - val_accuracy: 0.7698\n",
      "Epoch 27/30\n",
      "92/92 [==============================] - 926s 10s/step - loss: 0.3921 - accuracy: 0.8512 - val_loss: 0.7279 - val_accuracy: 0.7507\n",
      "Epoch 28/30\n",
      "92/92 [==============================] - 595s 6s/step - loss: 0.3696 - accuracy: 0.8638 - val_loss: 0.7367 - val_accuracy: 0.7602\n",
      "Epoch 29/30\n",
      "92/92 [==============================] - 469s 5s/step - loss: 0.3475 - accuracy: 0.8713 - val_loss: 0.6782 - val_accuracy: 0.7847\n",
      "Epoch 30/30\n",
      "92/92 [==============================] - 475s 5s/step - loss: 0.3354 - accuracy: 0.8713 - val_loss: 0.7321 - val_accuracy: 0.7807\n"
     ]
    }
   ],
   "source": [
    "epochs = 30\n",
    "history = model.fit(train_ds,\n",
    "                   validation_data=val_ds,\n",
    "                   epochs=epochs)"
   ]
  },
  {
   "cell_type": "markdown",
   "id": "af03949a",
   "metadata": {},
   "source": [
    "## Выводим графики точности"
   ]
  },
  {
   "cell_type": "code",
   "execution_count": 12,
   "id": "6aa210c4",
   "metadata": {},
   "outputs": [
    {
     "data": {
      "image/png": "[encoded data removed]",
      "text/plain": [
       "<Figure size 576x576 with 2 Axes>"
      ]
     },
     "metadata": {
      "needs_background": "light"
     },
     "output_type": "display_data"
    }
   ],
   "source": [
    "acc = history.history[\"accuracy\"]\n",
    "val_acc = history.history[\"val_accuracy\"]\n",
    "\n",
    "loss = history.history[\"loss\"]\n",
    "val_loss = history.history[\"val_loss\"]\n",
    "\n",
    "epochs_range = range(epochs)\n",
    "\n",
    "plt.figure(figsize=(8, 8))\n",
    "plt.subplot(1, 2, 1)\n",
    "plt.plot(epochs_range, acc, label=\"Trainning Accuracy\")\n",
    "plt.plot(epochs_range, val_acc, label=\"Validation Accuracy\")\n",
    "plt.legend(loc='lower right')\n",
    "plt.title(\"Training and Validation Accuracy\")\n",
    "\n",
    "plt.subplot(1, 2, 2)\n",
    "plt.plot(epochs_range, loss, label=\"Trainning Loss\")\n",
    "plt.plot(epochs_range, val_loss, label=\"Validation Loss\")\n",
    "plt.legend(loc='upper right')\n",
    "plt.title(\"Training and Validation Loss\")\n",
    "plt.show()"
   ]
  },
  {
   "cell_type": "markdown",
   "id": "f7fbda97",
   "metadata": {},
   "source": [
    "## Сохраняем веса нейронов нейросети"
   ]
  },
  {
   "cell_type": "code",
   "execution_count": 13,
   "id": "d675f760",
   "metadata": {},
   "outputs": [],
   "source": [
    "model.save_weights(\"flowers_model_30\")"
   ]
  }
 ],
 "metadata": {
  "kernelspec": {
   "display_name": "Python 3",
   "language": "python",
   "name": "python3"
  },
  "language_info": {
   "codemirror_mode": {
    "name": "ipython",
    "version": 3
   },
   "file_extension": ".py",
   "mimetype": "text/x-python",
   "name": "python",
   "nbconvert_exporter": "python",
   "pygments_lexer": "ipython3",
   "version": "3.6.8"
  }
 },
 "nbformat": 4,
 "nbformat_minor": 5
}
