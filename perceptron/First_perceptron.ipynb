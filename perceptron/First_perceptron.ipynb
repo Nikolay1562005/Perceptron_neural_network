{
 "cells": [
  {
   "cell_type": "markdown",
   "id": "1d652c46",
   "metadata": {},
   "source": [
    "# My first perceptron\n",
    "[Ссылка на видео откуда я взял код этой нейронки](https://youtu.be/WFYxpi3O950)"
   ]
  },
  {
   "cell_type": "code",
   "execution_count": 27,
   "id": "45489b2a",
   "metadata": {},
   "outputs": [],
   "source": [
    "import numpy as np"
   ]
  },
  {
   "cell_type": "code",
   "execution_count": 28,
   "id": "18eaf1fb",
   "metadata": {},
   "outputs": [],
   "source": [
    "def sigmoid(x):\n",
    "    return 1 / (1 + np.exp(-x))"
   ]
  },
  {
   "cell_type": "code",
   "execution_count": 29,
   "id": "9528af88",
   "metadata": {},
   "outputs": [],
   "source": [
    "training_inputs = np.array([[0, 0, 1],\n",
    "                           [1, 1, 1],\n",
    "                           [1, 0, 1],\n",
    "                           [0, 1, 1]])"
   ]
  },
  {
   "cell_type": "code",
   "execution_count": 30,
   "id": "73844a3d",
   "metadata": {},
   "outputs": [],
   "source": [
    "training_outputs = np.array([[0, 1, 1, 0]]).T"
   ]
  },
  {
   "cell_type": "code",
   "execution_count": 31,
   "id": "9e7396a0",
   "metadata": {},
   "outputs": [],
   "source": [
    "np.random.seed(1)"
   ]
  },
  {
   "cell_type": "code",
   "execution_count": 32,
   "id": "5ba0905f",
   "metadata": {},
   "outputs": [
    {
     "data": {
      "text/plain": [
       "array([[-0.16595599],\n",
       "       [ 0.44064899],\n",
       "       [-0.99977125]])"
      ]
     },
     "execution_count": 32,
     "metadata": {},
     "output_type": "execute_result"
    }
   ],
   "source": [
    "synaptic_weights = 2 * np.random.random((3, 1)) - 1\n",
    "synaptic_weights"
   ]
  },
  {
   "cell_type": "code",
   "execution_count": 33,
   "id": "e94a34f6",
   "metadata": {},
   "outputs": [
    {
     "data": {
      "text/plain": [
       "array([[ 9.67299303],\n",
       "       [-0.2078435 ],\n",
       "       [-4.62963669]])"
      ]
     },
     "execution_count": 33,
     "metadata": {},
     "output_type": "execute_result"
    }
   ],
   "source": [
    "for i in range(10_000):\n",
    "    input_layer = training_inputs\n",
    "    outputs = sigmoid(np.dot(training_inputs, synaptic_weights))\n",
    "    \n",
    "    err = training_outputs - outputs\n",
    "    adjustments = np.dot(input_layer.T, err * (outputs * (1 - outputs)))\n",
    "    synaptic_weights += adjustments\n",
    "synaptic_weights"
   ]
  },
  {
   "cell_type": "code",
   "execution_count": 1,
   "id": "08733c38",
   "metadata": {},
   "outputs": [
    {
     "ename": "NameError",
     "evalue": "name 'outputs' is not defined",
     "output_type": "error",
     "traceback": [
      "\u001b[1;31m---------------------------------------------------------------------------\u001b[0m",
      "\u001b[1;31mNameError\u001b[0m                                 Traceback (most recent call last)",
      "Cell \u001b[1;32mIn[1], line 1\u001b[0m\n\u001b[1;32m----> 1\u001b[0m \u001b[43moutputs\u001b[49m\n",
      "\u001b[1;31mNameError\u001b[0m: name 'outputs' is not defined"
     ]
    }
   ],
   "source": [
    "outputs"
   ]
  }
 ],
 "metadata": {
  "kernelspec": {
   "display_name": "Python 3 (ipykernel)",
   "language": "python",
   "name": "python3"
  },
  "language_info": {
   "codemirror_mode": {
    "name": "ipython",
    "version": 3
   },
   "file_extension": ".py",
   "mimetype": "text/x-python",
   "name": "python",
   "nbconvert_exporter": "python",
   "pygments_lexer": "ipython3",
   "version": "3.8.10"
  }
 },
 "nbformat": 4,
 "nbformat_minor": 5
}
