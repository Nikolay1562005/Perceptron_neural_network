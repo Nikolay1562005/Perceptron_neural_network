{
 "cells": [
  {
   "cell_type": "markdown",
   "id": "874a4aaa-d5f1-4298-9fe8-90ffa5ebe3dd",
   "metadata": {},
   "source": [
    "## Импорт нужных библиотек"
   ]
  },
  {
   "cell_type": "code",
   "execution_count": 1,
   "id": "e05b7510-f2eb-45fd-95ea-f4e00e5020d9",
   "metadata": {},
   "outputs": [],
   "source": [
    "from pprint import *"
   ]
  },
  {
   "cell_type": "markdown",
   "id": "daeec44a-113a-489e-9406-eb0d7f1e6bfc",
   "metadata": {},
   "source": [
    "# Что такое класс?\n",
    "#### Класс это структура данных, которая служит для описания объектов.\n",
    "### Основные концепции, лежащие в основе парадигмы ООП:\n",
    "1. инкапсуляция\n",
    "2. наследование\n",
    "3. полиморфизм"
   ]
  },
  {
   "cell_type": "markdown",
   "id": "17ed8c8d-df58-4d50-bb2d-c9fd2135688b",
   "metadata": {
    "jp-MarkdownHeadingCollapsed": true
   },
   "source": [
    "## Инициализация класса"
   ]
  },
  {
   "cell_type": "code",
   "execution_count": 2,
   "id": "85683068-de91-45dc-a1db-ee8eb4e340f9",
   "metadata": {},
   "outputs": [],
   "source": [
    "class Point:\n",
    "    \"Класс для представления координат точек на плоскости\"\n",
    "    x = 1\n",
    "    y = 1"
   ]
  },
  {
   "cell_type": "markdown",
   "id": "30d3ee56-9f6e-4b7a-a98f-45d43289d93e",
   "metadata": {
    "jp-MarkdownHeadingCollapsed": true
   },
   "source": [
    "## Создание экземпляра класса"
   ]
  },
  {
   "cell_type": "code",
   "execution_count": 3,
   "id": "a677f102-66f8-4bcf-8374-2aa7f4f015ad",
   "metadata": {},
   "outputs": [],
   "source": [
    "pt = Point()"
   ]
  },
  {
   "cell_type": "markdown",
   "id": "53bc7c45-0420-4b39-ac7a-48a1060f8085",
   "metadata": {},
   "source": [
    "### Атрибуты класса\n",
    "#### __name__ - название класса\n",
    "#### __doc__ - описание класса\n",
    "#### __dict__ - список с действующими атрибутами класса и их значениями"
   ]
  },
  {
   "cell_type": "code",
   "execution_count": 4,
   "id": "a3d11314-c288-463e-85ee-ea292b56091b",
   "metadata": {},
   "outputs": [
    {
     "data": {
      "text/plain": [
       "'Point'"
      ]
     },
     "execution_count": 4,
     "metadata": {},
     "output_type": "execute_result"
    }
   ],
   "source": [
    "Point.__name__"
   ]
  },
  {
   "cell_type": "code",
   "execution_count": 5,
   "id": "f6b1853d-7434-4b72-9750-d5834c4008c7",
   "metadata": {},
   "outputs": [
    {
     "data": {
      "text/plain": [
       "'Класс для представления координат точек на плоскости'"
      ]
     },
     "execution_count": 5,
     "metadata": {},
     "output_type": "execute_result"
    }
   ],
   "source": [
    "Point.__doc__"
   ]
  },
  {
   "cell_type": "code",
   "execution_count": 6,
   "id": "11fe428c-cea1-465b-b635-00727707279a",
   "metadata": {
    "scrolled": true
   },
   "outputs": [
    {
     "name": "stdout",
     "output_type": "stream",
     "text": [
      "mappingproxy({'__dict__': <attribute '__dict__' of 'Point' objects>,\n",
      "              '__doc__': 'Класс для представления координат точек на плоскости',\n",
      "              '__module__': '__main__',\n",
      "              '__weakref__': <attribute '__weakref__' of 'Point' objects>,\n",
      "              'x': 1,\n",
      "              'y': 1})\n"
     ]
    }
   ],
   "source": [
    "pprint(Point.__dict__)"
   ]
  },
  {
   "cell_type": "markdown",
   "id": "a290e893-3817-479a-b04b-902db2bb4619",
   "metadata": {
    "jp-MarkdownHeadingCollapsed": true
   },
   "source": [
    "## С атрибутами экземпляров класса можно работать через такие функции:\n",
    "1. getattr(obj, name [, default]) — возвращает значение атрибута объекта\n",
    "2. hasattr(obj, name) — проверяет на наличие атрибута name в obj\n",
    "3. setattr(obj, name, value) — задает значение атрибута (если атрибут не существует, то он создается)\n",
    "4. delattr(obj, name) — удаляет атрибут с именем name\n",
    "5. dir(name) — возвращает список с названиями всех атрибутов класса\n",
    "6. id(name) — возвращает id объекта\n",
    "7. type(name) — возвращает тип объекта (может помочь при определении типа данных)\n",
    "8. isinstance(obj, other_obj) — проверяет принадлежит ли денный объект к проверяймому классу\n",
    "9. vars(obj_class) — возвращает словарь с ключём - название всех пременных класса и значением из переменной"
   ]
  },
  {
   "cell_type": "code",
   "execution_count": 7,
   "id": "20784f9a-62e7-43a7-a80b-66fe554cd6bd",
   "metadata": {},
   "outputs": [
    {
     "data": {
      "text/plain": [
       "1"
      ]
     },
     "execution_count": 7,
     "metadata": {},
     "output_type": "execute_result"
    }
   ],
   "source": [
    "getattr(pt, \"x\")"
   ]
  },
  {
   "cell_type": "code",
   "execution_count": 8,
   "id": "8eb98f0c-15a2-4157-ad46-2450ea89285e",
   "metadata": {},
   "outputs": [
    {
     "data": {
      "text/plain": [
       "False"
      ]
     },
     "execution_count": 8,
     "metadata": {},
     "output_type": "execute_result"
    }
   ],
   "source": [
    "getattr(pt, \"z\", False)  # не вызывает ошибку при вызове несуществующей переменний"
   ]
  },
  {
   "cell_type": "code",
   "execution_count": 9,
   "id": "6f2306bf-f327-4f50-824a-381cf714b984",
   "metadata": {},
   "outputs": [
    {
     "data": {
      "text/plain": [
       "1"
      ]
     },
     "execution_count": 9,
     "metadata": {},
     "output_type": "execute_result"
    }
   ],
   "source": [
    "pt.x"
   ]
  },
  {
   "cell_type": "code",
   "execution_count": 10,
   "id": "5360f51b-2e99-456a-9697-1e5601f95d4d",
   "metadata": {},
   "outputs": [
    {
     "data": {
      "text/plain": [
       "True"
      ]
     },
     "execution_count": 10,
     "metadata": {},
     "output_type": "execute_result"
    }
   ],
   "source": [
    "hasattr(pt, \"y\")"
   ]
  },
  {
   "cell_type": "code",
   "execution_count": 11,
   "id": "8fd8bc82-dd36-4e2b-b6d9-d97a0be63472",
   "metadata": {},
   "outputs": [
    {
     "data": {
      "text/plain": [
       "False"
      ]
     },
     "execution_count": 11,
     "metadata": {},
     "output_type": "execute_result"
    }
   ],
   "source": [
    "hasattr(pt, \"z\")"
   ]
  },
  {
   "cell_type": "code",
   "execution_count": 12,
   "id": "3982c79b-7164-4407-94a7-e52ad17782f3",
   "metadata": {},
   "outputs": [
    {
     "data": {
      "text/plain": [
       "7"
      ]
     },
     "execution_count": 12,
     "metadata": {},
     "output_type": "execute_result"
    }
   ],
   "source": [
    "setattr(pt, \"z\", 7)\n",
    "getattr(pt, \"z\")"
   ]
  },
  {
   "cell_type": "code",
   "execution_count": 13,
   "id": "5cdb322c-daf3-48f5-ab53-07d7dae0a16e",
   "metadata": {},
   "outputs": [
    {
     "data": {
      "text/plain": [
       "False"
      ]
     },
     "execution_count": 13,
     "metadata": {},
     "output_type": "execute_result"
    }
   ],
   "source": [
    "delattr(pt, \"z\")\n",
    "getattr(pt, \"z\", False)"
   ]
  },
  {
   "cell_type": "code",
   "execution_count": 14,
   "id": "4b7fafb9-cc87-4a14-b389-cf9900730884",
   "metadata": {},
   "outputs": [
    {
     "name": "stdout",
     "output_type": "stream",
     "text": [
      "['__class__',\n",
      " '__delattr__',\n",
      " '__dict__',\n",
      " '__dir__',\n",
      " '__doc__',\n",
      " '__eq__',\n",
      " '__format__',\n",
      " '__ge__',\n",
      " '__getattribute__',\n",
      " '__gt__',\n",
      " '__hash__',\n",
      " '__init__',\n",
      " '__init_subclass__',\n",
      " '__le__',\n",
      " '__lt__',\n",
      " '__module__',\n",
      " '__ne__',\n",
      " '__new__',\n",
      " '__reduce__',\n",
      " '__reduce_ex__',\n",
      " '__repr__',\n",
      " '__setattr__',\n",
      " '__sizeof__',\n",
      " '__str__',\n",
      " '__subclasshook__',\n",
      " '__weakref__',\n",
      " 'x',\n",
      " 'y']\n"
     ]
    }
   ],
   "source": [
    "pprint(dir(pt))"
   ]
  },
  {
   "cell_type": "code",
   "execution_count": 15,
   "id": "5b6efe5a-c668-4e22-ac1e-ef8bc6c40f9c",
   "metadata": {},
   "outputs": [
    {
     "data": {
      "text/plain": [
       "2196588726312"
      ]
     },
     "execution_count": 15,
     "metadata": {},
     "output_type": "execute_result"
    }
   ],
   "source": [
    "id(pt)"
   ]
  },
  {
   "cell_type": "code",
   "execution_count": 16,
   "id": "ee051f34-942a-464f-a5e4-ed0963fa26b4",
   "metadata": {},
   "outputs": [
    {
     "data": {
      "text/plain": [
       "2196574795240"
      ]
     },
     "execution_count": 16,
     "metadata": {},
     "output_type": "execute_result"
    }
   ],
   "source": [
    "id(Point)"
   ]
  },
  {
   "cell_type": "code",
   "execution_count": 17,
   "id": "3babfd94-3ea9-4459-8449-0485165dd78b",
   "metadata": {},
   "outputs": [
    {
     "data": {
      "text/plain": [
       "__main__.Point"
      ]
     },
     "execution_count": 17,
     "metadata": {},
     "output_type": "execute_result"
    }
   ],
   "source": [
    "type(pt)"
   ]
  },
  {
   "cell_type": "code",
   "execution_count": 18,
   "id": "e674e07d-e2cc-4065-af67-953a1a7881bb",
   "metadata": {},
   "outputs": [
    {
     "data": {
      "text/plain": [
       "int"
      ]
     },
     "execution_count": 18,
     "metadata": {},
     "output_type": "execute_result"
    }
   ],
   "source": [
    "type(1234)"
   ]
  },
  {
   "cell_type": "code",
   "execution_count": 19,
   "id": "a4b6b55d-ed51-493b-a1fe-42b7f427521a",
   "metadata": {},
   "outputs": [
    {
     "data": {
      "text/plain": [
       "str"
      ]
     },
     "execution_count": 19,
     "metadata": {},
     "output_type": "execute_result"
    }
   ],
   "source": [
    "type('Python')"
   ]
  },
  {
   "cell_type": "code",
   "execution_count": 20,
   "id": "7331dcc5-9168-4c7f-80a0-c55da877b0a0",
   "metadata": {},
   "outputs": [
    {
     "data": {
      "text/plain": [
       "set"
      ]
     },
     "execution_count": 20,
     "metadata": {},
     "output_type": "execute_result"
    }
   ],
   "source": [
    "type({1, 6, 4})"
   ]
  },
  {
   "cell_type": "code",
   "execution_count": 21,
   "id": "742a1a98-4e00-4b4e-ade3-1cb45641fb1e",
   "metadata": {},
   "outputs": [
    {
     "data": {
      "text/plain": [
       "True"
      ]
     },
     "execution_count": 21,
     "metadata": {},
     "output_type": "execute_result"
    }
   ],
   "source": [
    "isinstance(pt, Point)"
   ]
  },
  {
   "cell_type": "code",
   "execution_count": 22,
   "id": "c2936b30",
   "metadata": {},
   "outputs": [
    {
     "data": {
      "text/plain": [
       "mappingproxy({'__module__': '__main__',\n",
       "              '__doc__': 'Класс для представления координат точек на плоскости',\n",
       "              'x': 1,\n",
       "              'y': 1,\n",
       "              '__dict__': <attribute '__dict__' of 'Point' objects>,\n",
       "              '__weakref__': <attribute '__weakref__' of 'Point' objects>})"
      ]
     },
     "execution_count": 22,
     "metadata": {},
     "output_type": "execute_result"
    }
   ],
   "source": [
    "vars(Point)"
   ]
  },
  {
   "cell_type": "code",
   "execution_count": 23,
   "id": "4c32407e-2232-4a6c-9851-581dd8a8900c",
   "metadata": {},
   "outputs": [],
   "source": [
    "class Car:\n",
    " \n",
    "    # создаем атрибуты класса\n",
    "    car_count = 0\n",
    " \n",
    "    # создаем методы класса\n",
    "    def start(self, name, make, model):\n",
    "        print(\"Двигатель заведен\")\n",
    "        self.name = name\n",
    "        self.make = make\n",
    "        self.model = model\n",
    "        Car.car_count += 1"
   ]
  },
  {
   "cell_type": "code",
   "execution_count": 24,
   "id": "47718854-b891-43d5-8d74-b4f8fabcc913",
   "metadata": {},
   "outputs": [
    {
     "name": "stdout",
     "output_type": "stream",
     "text": [
      "Двигатель заведен\n"
     ]
    },
    {
     "data": {
      "text/plain": [
       "1"
      ]
     },
     "execution_count": 24,
     "metadata": {},
     "output_type": "execute_result"
    }
   ],
   "source": [
    "car_a = Car()\n",
    "car_a.start(\"Corrola\", \"Toyota\", 2015)\n",
    "car_a.car_count"
   ]
  },
  {
   "cell_type": "code",
   "execution_count": 25,
   "id": "8817f2f5-fcc5-48f0-88e4-2a844026dfb1",
   "metadata": {},
   "outputs": [
    {
     "name": "stdout",
     "output_type": "stream",
     "text": [
      "Двигатель заведен\n"
     ]
    },
    {
     "data": {
      "text/plain": [
       "2"
      ]
     },
     "execution_count": 25,
     "metadata": {},
     "output_type": "execute_result"
    }
   ],
   "source": [
    "car_b = Car()  \n",
    "car_b.start(\"City\", \"Honda\", 2013)  \n",
    "car_b.car_count"
   ]
  },
  {
   "cell_type": "markdown",
   "id": "a7102592-1edd-46b9-b49a-a12d3d54e6f3",
   "metadata": {},
   "source": [
    "# Магические методы класса"
   ]
  },
  {
   "cell_type": "raw",
   "id": "17a8b0a5-658d-4353-8d2a-1ee1b4671db1",
   "metadata": {},
   "source": [
    "Конструкторы класса:\n",
    "1. __init__(self, first_argument, second_argument ...)' — инициализирует передачу аргументов в экземпляр класса\n",
    "2. __new__(cls, first_argument, second_argument ...) — используется в случае наследования новым классом базового класса\n",
    "3. __del__(self) — отвечает за правильное удаление данных, но ненадёжный"
   ]
  },
  {
   "cell_type": "code",
   "execution_count": 26,
   "id": "ae3560fb-ba1a-42ca-9fba-18157025b493",
   "metadata": {},
   "outputs": [],
   "source": [
    "from os.path import join\n",
    "\n",
    "class FileObject:\n",
    "    '''Обёртка для файлового объекта, чтобы быть уверенным в том, что файл будет закрыт при удалении.'''\n",
    "\n",
    "    def __init__(self, filepath='~', filename='sample.txt'):\n",
    "        # открыть файл filename в filepath в режиме чтения и записи\n",
    "        self.file = open(join(filepath, filename), 'r+')\n",
    "\n",
    "    def __del__(self):\n",
    "        self.file.close()\n",
    "        del self.file\n"
   ]
  },
  {
   "cell_type": "code",
   "execution_count": 27,
   "id": "0f4742a0-bbdb-4d27-9d21-2bd80a8c3205",
   "metadata": {},
   "outputs": [
    {
     "data": {
      "text/plain": [
       "0.30479999999999996"
      ]
     },
     "execution_count": 27,
     "metadata": {},
     "output_type": "execute_result"
    }
   ],
   "source": [
    "class inch(float):\n",
    "    \"Convert from inch to meter\"\n",
    "    def __new__(cls, arg=0.0):\n",
    "        return float.__new__(cls, arg*0.0254)\n",
    "\n",
    "inch(12)"
   ]
  },
  {
   "cell_type": "raw",
   "id": "d2e1ade6-e39f-42dc-8e59-e1ceadb5c9e1",
   "metadata": {},
   "source": [
    "Методы представления классов:\n",
    "1. __str__(self) — определяет поведение функции str(), вызванной для экземпляра вашего класса.\n",
    "2. __repr__(self) — определяет поведение функции repr(), вызыванной для экземпляра вашего класса. Главное отличие от str() в целевой аудитории. repr() больше предназначен для машинно-ориентированного вывода (более того, это часто должен быть валидный код на Питоне), а str() предназначен для чтения людьми.\n",
    "3. __unicode__(self) — определяет поведение функции unicode(), вызыванной для экземпляра вашего класса. unicode() похож на str(), но возвращает строку в юникоде. Будте осторожны: если клиент вызывает str() на экземпляре вашего класса, а вы определили только __unicode__(), то это не будет работать. Постарайтесь всегда определять __str__() для случая, когда кто-то не имеет такой роскоши как юникод.\n",
    "4. __format__(self, formatstr) — определяет поведение, когда экземпляр вашего класса используется в форматировании строк нового стиля. Например, \"Hello, {0:abc}!\".format(a) приведёт к вызову a.__format__(\"abc\"). Это может быть полезно для определения ваших собственных числовых или строковых типов, которым вы можете захотеть предоставить какие-нибудь специальные опции форматирования.\n",
    "5. __hash__(self) — определяет поведение функции hash(), вызыванной для экземпляра вашего класса. Метод должен возвращать целочисленное значение, которое будет использоваться для быстрого сравнения ключей в словарях. Заметьте, что в таком случае обычно нужно определять и __eq__ тоже. Руководствуйтесь следующим правилом: a == b подразумевает hash(a) == hash(b).\n",
    "6. __nonzero__(self) — определяет поведение функции bool(), вызванной для экземпляра вашего класса. Должна вернуть True или False, в зависимости от того, когда вы считаете экземпляр соответствующим True или False.\n",
    "7. __dir__(self) — определяет поведение функции dir(), вызванной на экземпляре вашего класса. Этот метод должен возвращать пользователю список атрибутов. Обычно, определение __dir__ не требуется, но может быть жизненно важно для интерактивного использования вашего класса, если вы переопределили \n",
    "8. __sizeof__(self) — определяет поведение функции sys.getsizeof(), вызыванной на экземпляре вашего класса. Метод должен вернуть размер вашего объекта в байтах. Он главным образом полезен для классов, определённых в расширениях на C, но всё-равно полезно о нём знать."
   ]
  },
  {
   "cell_type": "code",
   "execution_count": null,
   "id": "c3031d68-b88d-4bc6-85c1-784cc163ad79",
   "metadata": {},
   "outputs": [],
   "source": []
  },
  {
   "cell_type": "raw",
   "id": "606cb18a-aa13-4da7-ac35-523f6eb2a5f0",
   "metadata": {},
   "source": [
    "Методы контроль доступа к атрибутам:\n",
    "1. __getattr__(self, name) — Вы можете определить поведение для случая, когда пользователь пытается обратиться к атрибуту, который не существует (совсем или пока ещё). Это может быть полезным для перехвата и перенаправления частых опечаток, предупреждения об использовании устаревших атрибутов (вы можете всё-равно вычислить и вернуть этот атрибут, если хотите), или хитро возвращать AttributeError, когда это вам нужно. Правда, этот метод вызывается только когда пытаются получить доступ к несуществующему атрибуту, поэтому это не очень хорошее решение для инкапсуляции.\n",
    "2. __setattr__(self, name, value) — В отличии от __getattr__, __setattr__ решение для инкапсуляции. Этот метод позволяет вам определить поведение для присвоения значения атрибуту, независимо от того существует атрибут или нет. То есть, вы можете определить любые правила для любых изменений значения атрибутов. Впрочем, вы должны быть осторожны с тем, как использовать __setattr__\n",
    "3. __delattr__ — Это то же, что и __setattr__, но для удаления атрибутов, вместо установки значений. Здесь требуются те же меры предосторожности, что и в __setattr__ чтобы избежать бесконечной рекурсии (вызов del self.name в определении __delattr__ вызовет бесконечную рекурсию).\n",
    "4. __getattribute__(self, name) — выглядит к месту среди своих коллег __setattr__ и __delattr__, но я бы не рекомендовал вам его использовать. __getattribute__ может использоваться только с классами нового типа (в новых версиях Питона все классы нового типа, а в старых версиях вы можете получить такой класс унаследовавшись от object). Этот метод позволяет вам определить поведение для каждого случая доступа к атрибутам (а не только к несуществующим, как __getattr__(self, name)). Он страдает от таких же проблем с бесконечной рекурсией, как и его коллеги (на этот раз вы можете вызывать __getattribute__ у базового класса, чтобы их предотвратить). Он, так же, главным образом устраняет необходимость в __getattr__, который в случае реализации __getattribute__ может быть вызван только явным образом или в случае генерации исключения AttributeError. Вы конечно можете использовать этот метод (в конце концов, это ваш выбор), но я бы не рекомендовал, потому что случаев, когда он действительно полезен очень мало (намного реже нужно переопределять поведение при получении, а не при установке значения) и реализовать его без возможных ошибок очень сложно.\n",
    " "
   ]
  },
  {
   "cell_type": "code",
   "execution_count": 28,
   "id": "0354db57-5f5a-4174-b748-399d3b3f2eb7",
   "metadata": {},
   "outputs": [],
   "source": [
    "class AccessCounter(object):\n",
    "    '''Класс, содержащий атрибут value и реализующий счётчик доступа к нему.\n",
    "    Счётчик увеличивается каждый раз, когда меняется value.'''\n",
    "\n",
    "    def __init__(self, val):\n",
    "        super(AccessCounter, self).__setattr__('counter', 0)\n",
    "        super(AccessCounter, self).__setattr__('value', val)\n",
    "\n",
    "    def __setattr__(self, name, value):\n",
    "        if name == 'value':\n",
    "            super(AccessCounter, self).__setattr__('counter', self.counter + 1)\n",
    "        super(AccessCounter, self).__setattr__(name, value)\n",
    "\n",
    "    def __delattr__(self, name):\n",
    "        if name == 'value':\n",
    "            super(AccessCounter, self).__setattr__('counter', self.counter + 1)\n",
    "        super(AccessCounter, self).__delattr__(name)"
   ]
  },
  {
   "cell_type": "raw",
   "id": "ea8faab7-a51a-4d73-8256-302d8b16b0a3",
   "metadata": {},
   "source": [
    "Операторы сравнения:\n",
    "1. __cmp__(self, other) — определяет поведение для всех операторов сравнения (>, >=, <, <=, ==, !=), но эквивалентность двух экземпляров определяется по одному критерию\n",
    "2. __eq__(self, other) — определяет поведение оператора равенств, ==\n",
    "3. __ne__(self, other) — определяет поведение оператора неравенств !=\n",
    "4. __lt__(self, other) — определяет поведение оператора менье <\n",
    "8. __gt__(self, other) — определяет поведение оператора больше >\n",
    "9. __le__(self, other) — определяет поведение оператора меньше или равно <=\n",
    "7. __ge__(self, other) — определяет поведение оператора больше или равно >="
   ]
  },
  {
   "cell_type": "code",
   "execution_count": 29,
   "id": "0fd3995f-f1a0-4a12-9c31-5c9df3566626",
   "metadata": {},
   "outputs": [
    {
     "ename": "SyntaxError",
     "evalue": "Missing parentheses in call to 'print'. Did you mean print(\"Value contains spaces. Truncating to first space.\")? (<ipython-input-29-9cb5afccb2fc>, line 8)",
     "output_type": "error",
     "traceback": [
      "\u001b[1;36m  File \u001b[1;32m\"<ipython-input-29-9cb5afccb2fc>\"\u001b[1;36m, line \u001b[1;32m8\u001b[0m\n\u001b[1;33m    print \"Value contains spaces. Truncating to first space.\"\u001b[0m\n\u001b[1;37m                                                            ^\u001b[0m\n\u001b[1;31mSyntaxError\u001b[0m\u001b[1;31m:\u001b[0m Missing parentheses in call to 'print'. Did you mean print(\"Value contains spaces. Truncating to first space.\")?\n"
     ]
    }
   ],
   "source": [
    "class Word(str):\n",
    "    '''Класс для слов, определяющий сравнение по длине слов.'''\n",
    "\n",
    "    def __new__(cls, word):\n",
    "        # Мы должны использовать __new__, так как тип str неизменяемый\n",
    "        # и мы должны инициализировать его раньше (при создании)\n",
    "        if ' ' in word:\n",
    "            print \"Value contains spaces. Truncating to first space.\"\n",
    "            word = word[:word.index(' ')] # Теперь Word это все символы до первого пробела\n",
    "        return str.__new__(cls, word)\n",
    "\n",
    "    def __gt__(self, other):\n",
    "        return len(self) > len(other)\n",
    "    def __lt__(self, other):\n",
    "        return len(self) < len(other)\n",
    "    def __ge__(self, other):\n",
    "        return len(self) >= len(other)\n",
    "    def __le__(self, other):\n",
    "        return len(self) <= len(other)\n",
    "\n",
    "Word('foo') >= Word('bar')"
   ]
  },
  {
   "cell_type": "raw",
   "id": "1680c71b-9fcb-4a95-b444-52a1233d6a02",
   "metadata": {},
   "source": [
    "Унарные операторы и функции:\n",
    "1. __pos__(self) — определяет поведение для унарного плюса (+some_object) \n",
    "2. __neg__(self) — определяет поведение для отрицания(-some_object)\n",
    "3. __abs__(self) — определяет поведение для встроенной функции abs()\n",
    "4. __invert__(self) — определяет поведение для инвертирования оператором ~\n",
    "5. __round__(self, n) — определяет поведение для встроенной функции round(). n это число знаков после запятой, до которого округлить\n",
    "6. __floor__(self) — определяет поведение для math.floor(), то есть, округления до ближайшего меньшего целого\n",
    "7. __ceil__(self) — определяет поведение для math.ceil(), то есть, округления до ближайшего большего целого\n",
    "8. __trunc__(self) — определяет поведение для math.trunc(), то есть, обрезания до целого"
   ]
  },
  {
   "cell_type": "raw",
   "id": "512936fb-ce54-4ea9-b99e-21f110a25c34",
   "metadata": {},
   "source": [
    "Арифметические операторы:\n",
    "1.  __add__(self, other) — Сложение\n",
    "2.  __sub__(self, other) — Вычитание\n",
    "3.  __mul__(self, other) — Умножение\n",
    "4.  __floordiv__(self, other) — Целочисленное деление, оператор //\n",
    "5.  __div__(self, other) — Деление, оператор /\n",
    "6.  __truediv__(self, other) — Правильное деление. Заметьте, что это работает только когда используется from __future__ import division\n",
    "7.  __mod__(self, other) — Остаток от деления, оператор %\n",
    "8.  __divmod__(self, other) — Определяет поведение для встроенной функции divmod()\n",
    "9.  __pow__ — Возведение в степень, оператор **\n",
    "10. __lshift__(self, other) — Двоичный сдвиг влево, оператор <<\n",
    "11. __rshift__(self, other) — Двоичный сдвиг вправо, оператор >>\n",
    "12. __and__(self, other) — Двоичное И, оператор &\n",
    "13. __or__(self, other) — Двоичное ИЛИ, оператор | \n",
    "14. __xor__(self, other) — Двоичный xor, оператор ^\n",
    "\n",
    "Отражённые арифметические операторы:\n",
    "Они отличаются лишь тем что оперант other слева (other + some_object) и приставкой r (__add__ в __radd__)\n",
    "\n",
    "Операторы составного присваивания:\n",
    "Они нужны чтоб использовать сокращённую запись арифметических операций (x += 1).\n",
    "Чтобих использовать нужно к основным операторам добавить приставку i (__add__ в __iadd__)\n",
    "\n"
   ]
  },
  {
   "cell_type": "code",
   "execution_count": 30,
   "id": "9081895b-3e33-4e01-8050-5bb8989dbec4",
   "metadata": {},
   "outputs": [
    {
     "name": "stdout",
     "output_type": "stream",
     "text": [
      "сумма: 5000\n",
      "разность: 5000\n",
      "умножение: 80000\n",
      "умножение: Ты чё творишь!!!\n",
      "деление: 10000\n",
      "деление: Ты чё творишь!!!\n",
      "общая сумма: 35000\n"
     ]
    }
   ],
   "source": [
    "class Item:\n",
    "    def __init__(self, name, price, weight):\n",
    "        self.name = name\n",
    "        self.price = price\n",
    "        self.weight = weight\n",
    "\n",
    "    def __add__(self, other):\n",
    "        if isinstance(other, int):\n",
    "            return self.price - other\n",
    "        elif isinstance(other, Item):\n",
    "            return self.price - other.price\n",
    "\n",
    "    def __sub__(self, other):\n",
    "        if isinstance(other, int):\n",
    "            return self.price - other\n",
    "        elif isinstance(other, Item):\n",
    "            return self.price - other.price\n",
    "\n",
    "    def __mul__(self, other):\n",
    "        if isinstance(other, int):\n",
    "            return self.price * other\n",
    "        elif  isinstance(other, Item):\n",
    "            return 'Ты чё творишь!!!'\n",
    "\n",
    "    def __truediv__(self, other):\n",
    "        if isinstance(other, int):\n",
    "            return int(self.price / other)\n",
    "        elif  isinstance(other, Item):\n",
    "            return 'Ты чё творишь!!!'\n",
    "\n",
    "\n",
    "a = [Item('Монитор', 20_000, 5),\n",
    "     Item('Видеокарта', 15_000, 0.8)\n",
    "     ]\n",
    "\n",
    "\n",
    "print(f\"сумма: {a[0] + a[1]}\")\n",
    "print(f\"разность: {a[0] - a[1]}\")\n",
    "print(f\"умножение: {a[0] * 4}\")\n",
    "print(f\"умножение: {a[0] * a[1]}\")\n",
    "print(f\"деление: {a[0] / 2}\")\n",
    "print(f\"деление: {a[0] / a[1]}\")\n",
    "print(f\"общая сумма: {sum([x.price for x in a])}\")"
   ]
  },
  {
   "cell_type": "raw",
   "id": "2bfb03d2-ce5f-4011-af6d-e76e3179591b",
   "metadata": {},
   "source": [
    "Операторы преобразования типов:\n",
    "1. __int__(self) — Преобразование типа в int\n",
    "2. __long__(self) — Преобразование типа в long\n",
    "3. __float__(self) — Преобразование типа в float\n",
    "4. __complex__(self) — Преобразование типа в комплексное число\n",
    "5. __oct__(self) — Преобразование типа в восьмеричное число\n",
    "6. __hex__(self) — Преобразование типа в шестнадцатиричное число\n",
    "7. __index__(self) — Преобразование типа к int, когда объект используется в срезах (выражения вида [start:stop:step]). Если вы определяете свой числовый тип, который может использоваться как индекс списка, вы должны определить __index__\n",
    "8. __trunc__(self) — Вызывается при math.trunc(self). Должен вернуть своё значение, обрезанное до целочисленного типа (обычно long)\n",
    "9. __coerce__(self, other) — Метод для реализации арифметики с операндами разных типов. __coerce__ должен вернуть None если преобразование типов невозможно. Если преобразование возможно, он должен вернуть пару (кортеж из 2-х элементов) из self и other, преобразованные к одному типу"
   ]
  },
  {
   "cell_type": "markdown",
   "id": "8b0541ca-901c-4a22-b2e3-3a2d33a8d8e0",
   "metadata": {},
   "source": [
    "## Декораторы функций:\n",
    "1. @staticmethod — указывает на объявление статичного метода (статические методы могут иметь доступ только к атрибутам класса)\n",
    "2. @classmethod — принимает класс в качестве параметра, который принято обозначать как cls\n",
    "\n",
    "Методы класса привязаны к самому классу, а не его экземпляру. Они могут менять состояние класса, что отразится на всех объектах этого класса, но не могут менять конкретный объект."
   ]
  },
  {
   "cell_type": "code",
   "execution_count": 31,
   "id": "bc81661b-ab6c-4472-807e-0d581974b5f9",
   "metadata": {},
   "outputs": [],
   "source": [
    "class Car:\n",
    "\n",
    "    @staticmethod\n",
    "    def get_class_details():\n",
    "        print (\"Это класс Car\")"
   ]
  },
  {
   "cell_type": "code",
   "execution_count": 32,
   "id": "6fc47161-4f90-4347-964d-352f8d9d55ef",
   "metadata": {},
   "outputs": [
    {
     "name": "stdout",
     "output_type": "stream",
     "text": [
      "Это класс Car\n"
     ]
    }
   ],
   "source": [
    "Car.get_class_details()"
   ]
  }
 ],
 "metadata": {
  "kernelspec": {
   "display_name": "Python 3",
   "language": "python",
   "name": "python3"
  },
  "language_info": {
   "codemirror_mode": {
    "name": "ipython",
    "version": 3
   },
   "file_extension": ".py",
   "mimetype": "text/x-python",
   "name": "python",
   "nbconvert_exporter": "python",
   "pygments_lexer": "ipython3",
   "version": "3.6.8"
  }
 },
 "nbformat": 4,
 "nbformat_minor": 5
}
